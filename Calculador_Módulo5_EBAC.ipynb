{
  "nbformat": 4,
  "nbformat_minor": 0,
  "metadata": {
    "colab": {
      "provenance": [],
      "authorship_tag": "ABX9TyO4C/+5ylYAqUBawXuJdXlo",
      "include_colab_link": true
    },
    "kernelspec": {
      "name": "python3",
      "display_name": "Python 3"
    },
    "language_info": {
      "name": "python"
    }
  },
  "cells": [
    {
      "cell_type": "markdown",
      "metadata": {
        "id": "view-in-github",
        "colab_type": "text"
      },
      "source": [
        "<a href=\"https://colab.research.google.com/github/amandabottacini/amandabottacini/blob/main/Calculador_M%C3%B3dulo5_EBAC.ipynb\" target=\"_parent\"><img src=\"https://colab.research.google.com/assets/colab-badge.svg\" alt=\"Open In Colab\"/></a>"
      ]
    },
    {
      "cell_type": "code",
      "source": [
        "import math\n",
        "\n",
        "def calculadora():\n",
        "    print(\"Calculadora Inteligente da Amanda!\")\n",
        "    print(\"Digite 'sair' para encerrar.\")\n",
        "\n",
        "    while True:\n",
        "        # Entrada do usuário\n",
        "        expressao = input(\"Digite a expressão matemática: \")\n",
        "\n",
        "        # Condição para sair\n",
        "        if expressao.lower() == 'sair':\n",
        "            print(\"Encerrando a calculadora.\")\n",
        "            break\n",
        "        try:\n",
        "            # Avalia a expressão usando funções da biblioteca math\n",
        "            resultado = eval(expressao, {\"__builtins__\": None}, vars(math))\n",
        "            print(\"Resultado:\", resultado)\n",
        "        except Exception as e:\n",
        "            print(\"Erro na expressão. Tente novamente.\")\n",
        "            print(\"Detalhes do erro:\", e)\n",
        "\n",
        "calculadora()"
      ],
      "metadata": {
        "id": "Dlm710FBNHes",
        "outputId": "69ff6aad-0d35-4fc6-d72f-46ceb279aa8a",
        "colab": {
          "base_uri": "https://localhost:8080/"
        }
      },
      "execution_count": null,
      "outputs": [
        {
          "output_type": "stream",
          "name": "stdout",
          "text": [
            "Calculadora Inteligente da Amanda!\n",
            "Digite 'sair' para encerrar.\n"
          ]
        }
      ]
    }
  ]
}